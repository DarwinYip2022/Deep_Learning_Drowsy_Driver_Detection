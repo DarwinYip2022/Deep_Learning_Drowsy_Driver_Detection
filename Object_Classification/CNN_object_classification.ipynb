{
 "cells": [
  {
   "cell_type": "code",
   "execution_count": 1,
   "metadata": {},
   "outputs": [],
   "source": [
    "from tensorflow.keras.preprocessing.image import ImageDataGenerator\n",
    "import pandas as pd\n",
    "import numpy as np\n",
    "import tensorflow as tf\n",
    "import cv2 as cv\n",
    "import matplotlib.pyplot as plt\n",
    "import os\n",
    "import shutil\n",
    "from sklearn.model_selection import train_test_split\n",
    "import keras_tuner as kt\n",
    "\n",
    "CLASSES = 2\n",
    "BATCH_SIZE = 16\n",
    "input_size = 244\n",
    "tf.random.set_seed(123)\n",
    "np.random.seed(123)\n"
   ]
  },
  {
   "cell_type": "code",
   "execution_count": 2,
   "metadata": {},
   "outputs": [
    {
     "name": "stdout",
     "output_type": "stream",
     "text": [
      "                                          Image_path     label_x     label_y  \\\n",
      "0  frame_0149_jpg.rf.ad848af69b7adc7a4d67f8d82b92...      0.6625  0.15390625   \n",
      "1  frame_0161_jpg.rf.a7d9f87c6556f2d980a350eb857d...  0.72265625    0.190625   \n",
      "2  frame_0077_jpg.rf.33fd47b720cd708a804198f25d15...  0.40078125  0.34765625   \n",
      "3  frame_0063_jpg.rf.4624fa9ce940d4a3064911fcb3ce...  0.42578125      0.3375   \n",
      "4  frame_0175_jpg.rf.c07c9544bfd1df4e226182f80058...  0.77109375  0.24296875   \n",
      "\n",
      "      label_w     label_h class  \n",
      "0    0.246875   0.2265625     1  \n",
      "1       0.225  0.24609375     1  \n",
      "2  0.47578125   0.0984375     0  \n",
      "3   0.4109375   0.1609375     0  \n",
      "4     0.29375   0.3109375     1  \n",
      "                                          Image_path     label_x     label_y  \\\n",
      "0  frame_0001_jpg.rf.8b7a3fd43952e6fb49d005af8ab5...     0.61875  0.25546875   \n",
      "1  frame_0101_jpg.rf.e9950d83f267efea842042bb5d08...  0.40703125   0.3328125   \n",
      "2  frame_0110_jpg.rf.19798f26be9e970155fcfd9e0056...      0.3875  0.32109375   \n",
      "3  frame_0201_jpg.rf.2e37c2b0f354d27a1acff8cfa800...  0.76484375  0.24609375   \n",
      "4  frame_0203_jpg.rf.1152e2258504052bd774a4f22731...  0.78203125   0.2234375   \n",
      "\n",
      "      label_w     label_h class  \n",
      "0  0.21484375   0.1234375     0  \n",
      "1  0.46015625    0.134375     0  \n",
      "2  0.45546875   0.1234375     0  \n",
      "3  0.16015625  0.31015625     1  \n",
      "4   0.2453125  0.30859375     1  \n"
     ]
    }
   ],
   "source": [
    "import pandas as pd\n",
    "\n",
    "def read_label_file(label_file):\n",
    "    data = []\n",
    "    with open(label_file, 'r', encoding='utf-8') as f:\n",
    "        for line in f:\n",
    "            # Split each line by space (assuming space-separated values)\n",
    "            parts = line.strip().split()\n",
    "            # Extract relevant information from the line\n",
    "            image_path = parts[0]  # Assuming the image path is the first item\n",
    "            # Assuming the rest of the items in the line are label values\n",
    "            labels = parts[1:]\n",
    "            # Append the extracted information as a tuple to the data list\n",
    "            data.append((image_path, *labels))\n",
    "    # Convert the data list to a pandas DataFrame\n",
    "    df = pd.DataFrame(data)  \n",
    "    return df\n",
    "\n",
    "# Read Train Labels\n",
    "label_file = 'combined_classification_dataset/combined_train_labels.txt'\n",
    "train_df = read_label_file(label_file)\n",
    "train_df.drop(train_df.columns[1], axis=1, inplace=True)\n",
    "train_df.columns = [\"Image_path\", 'label_x', 'label_y', 'label_w', 'label_h', 'class']\n",
    "print(train_df.head())  # Display the first few rows of the DataFrame\n",
    "\n",
    "\n",
    "# Read Test Labels\n",
    "label_file = 'combined_classification_dataset/combined_test_labels.txt'\n",
    "test_df = read_label_file(label_file)\n",
    "test_df.drop(test_df.columns[1], axis=1, inplace=True)\n",
    "test_df.columns = [\"Image_path\", 'label_x', 'label_y', 'label_w', 'label_h', 'class']\n",
    "print(test_df.head())  # Display the first few rows of the DataFrame"
   ]
  },
  {
   "cell_type": "code",
   "execution_count": null,
   "metadata": {},
   "outputs": [],
   "source": []
  }
 ],
 "metadata": {
  "kernelspec": {
   "display_name": "base",
   "language": "python",
   "name": "python3"
  },
  "language_info": {
   "codemirror_mode": {
    "name": "ipython",
    "version": 3
   },
   "file_extension": ".py",
   "mimetype": "text/x-python",
   "name": "python",
   "nbconvert_exporter": "python",
   "pygments_lexer": "ipython3",
   "version": "3.11.8"
  }
 },
 "nbformat": 4,
 "nbformat_minor": 2
}
